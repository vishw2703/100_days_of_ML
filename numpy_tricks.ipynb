{
 "cells": [
  {
   "cell_type": "code",
   "execution_count": 2,
   "id": "64cb29a4",
   "metadata": {},
   "outputs": [
    {
     "data": {
      "text/plain": [
       "array([42, 74, 63, 42, 99, 77, 95, 44,  1, 98, 23, 11, 38, 90, 45])"
      ]
     },
     "execution_count": 2,
     "metadata": {},
     "output_type": "execute_result"
    }
   ],
   "source": [
    "import numpy as np\n",
    "a = np.random.randint(1,100,15)\n",
    "a"
   ]
  },
  {
   "cell_type": "code",
   "execution_count": 3,
   "id": "6ea6982d",
   "metadata": {},
   "outputs": [
    {
     "data": {
      "text/plain": [
       "array([[78, 86, 88, 97],\n",
       "       [29, 72,  8, 71],\n",
       "       [80, 14, 38, 65],\n",
       "       [74, 97, 10, 41],\n",
       "       [17, 44, 91, 40],\n",
       "       [81, 15, 20, 71]])"
      ]
     },
     "execution_count": 3,
     "metadata": {},
     "output_type": "execute_result"
    }
   ],
   "source": [
    "b = np.random.randint(1,100,24).reshape(6,4)\n",
    "b"
   ]
  },
  {
   "cell_type": "code",
   "execution_count": 4,
   "id": "244a7464",
   "metadata": {},
   "outputs": [
    {
     "data": {
      "text/plain": [
       "array([ 1, 11, 23, 38, 42, 42, 44, 45, 63, 74, 77, 90, 95, 98, 99])"
      ]
     },
     "execution_count": 4,
     "metadata": {},
     "output_type": "execute_result"
    }
   ],
   "source": [
    "np.sort(a)"
   ]
  },
  {
   "cell_type": "code",
   "execution_count": 5,
   "id": "8c3989fb",
   "metadata": {},
   "outputs": [
    {
     "data": {
      "text/plain": [
       "array([[78, 86, 88, 97],\n",
       "       [ 8, 29, 71, 72],\n",
       "       [14, 38, 65, 80],\n",
       "       [10, 41, 74, 97],\n",
       "       [17, 40, 44, 91],\n",
       "       [15, 20, 71, 81]])"
      ]
     },
     "execution_count": 5,
     "metadata": {},
     "output_type": "execute_result"
    }
   ],
   "source": [
    "np.sort(b)"
   ]
  },
  {
   "cell_type": "code",
   "execution_count": 6,
   "id": "27ec1243",
   "metadata": {},
   "outputs": [
    {
     "data": {
      "text/plain": [
       "array([[17, 14,  8, 40],\n",
       "       [29, 15, 10, 41],\n",
       "       [74, 44, 20, 65],\n",
       "       [78, 72, 38, 71],\n",
       "       [80, 86, 88, 71],\n",
       "       [81, 97, 91, 97]])"
      ]
     },
     "execution_count": 6,
     "metadata": {},
     "output_type": "execute_result"
    }
   ],
   "source": [
    "np.sort(b, axis = 0)"
   ]
  },
  {
   "cell_type": "code",
   "execution_count": 7,
   "id": "1fe217a1",
   "metadata": {},
   "outputs": [
    {
     "data": {
      "text/plain": [
       "array([ 42,  74,  63,  42,  99,  77,  95,  44,   1,  98,  23,  11,  38,\n",
       "        90,  45, 200])"
      ]
     },
     "execution_count": 7,
     "metadata": {},
     "output_type": "execute_result"
    }
   ],
   "source": [
    "np.append(a,200)"
   ]
  },
  {
   "cell_type": "code",
   "execution_count": 8,
   "id": "cce03f8d",
   "metadata": {},
   "outputs": [
    {
     "data": {
      "text/plain": [
       "array([[78., 86., 88., 97.,  1.],\n",
       "       [29., 72.,  8., 71.,  1.],\n",
       "       [80., 14., 38., 65.,  1.],\n",
       "       [74., 97., 10., 41.,  1.],\n",
       "       [17., 44., 91., 40.,  1.],\n",
       "       [81., 15., 20., 71.,  1.]])"
      ]
     },
     "execution_count": 8,
     "metadata": {},
     "output_type": "execute_result"
    }
   ],
   "source": [
    "np.append(b, np.ones((b.shape[0],1)), axis = 1)"
   ]
  },
  {
   "cell_type": "code",
   "execution_count": 10,
   "id": "e6e94b7d",
   "metadata": {},
   "outputs": [
    {
     "name": "stdout",
     "output_type": "stream",
     "text": [
      "[[0 1 2]\n",
      " [3 4 5]]\n",
      "[[ 6  7  8]\n",
      " [ 9 10 11]]\n"
     ]
    }
   ],
   "source": [
    "c = np.arange(6).reshape(2,3)\n",
    "d = np.arange(6,12).reshape(2,3)\n",
    "print(c)\n",
    "print(d)"
   ]
  },
  {
   "cell_type": "code",
   "execution_count": 12,
   "id": "02117bb3",
   "metadata": {},
   "outputs": [
    {
     "data": {
      "text/plain": [
       "array([[ 0,  1,  2,  6,  7,  8],\n",
       "       [ 3,  4,  5,  9, 10, 11]])"
      ]
     },
     "execution_count": 12,
     "metadata": {},
     "output_type": "execute_result"
    }
   ],
   "source": [
    "np.concatenate((c,d), axis = 1)"
   ]
  },
  {
   "cell_type": "code",
   "execution_count": 13,
   "id": "3ee9084c",
   "metadata": {},
   "outputs": [
    {
     "data": {
      "text/plain": [
       "array([[ 0,  1,  2],\n",
       "       [ 3,  4,  5],\n",
       "       [ 6,  7,  8],\n",
       "       [ 9, 10, 11]])"
      ]
     },
     "execution_count": 13,
     "metadata": {},
     "output_type": "execute_result"
    }
   ],
   "source": [
    "np.concatenate((c,d), axis = 0)"
   ]
  },
  {
   "cell_type": "code",
   "execution_count": 14,
   "id": "c5ba64b4",
   "metadata": {},
   "outputs": [],
   "source": [
    "e = np.array([1,1,2,2,3,3,3,4,4,5,5,5,6,6,6])"
   ]
  },
  {
   "cell_type": "code",
   "execution_count": 15,
   "id": "08a23922",
   "metadata": {},
   "outputs": [
    {
     "data": {
      "text/plain": [
       "array([1, 2, 3, 4, 5, 6])"
      ]
     },
     "execution_count": 15,
     "metadata": {},
     "output_type": "execute_result"
    }
   ],
   "source": [
    "np.unique(e)"
   ]
  },
  {
   "cell_type": "code",
   "execution_count": 16,
   "id": "d6ed9f58",
   "metadata": {},
   "outputs": [
    {
     "data": {
      "text/plain": [
       "array([42, 74, 63, 42, 99, 77, 95, 44,  1, 98, 23, 11, 38, 90, 45])"
      ]
     },
     "execution_count": 16,
     "metadata": {},
     "output_type": "execute_result"
    }
   ],
   "source": [
    "a"
   ]
  },
  {
   "cell_type": "code",
   "execution_count": 17,
   "id": "437152e5",
   "metadata": {},
   "outputs": [
    {
     "data": {
      "text/plain": [
       "(array([ 1,  2,  4,  5,  6,  9, 13], dtype=int64),)"
      ]
     },
     "execution_count": 17,
     "metadata": {},
     "output_type": "execute_result"
    }
   ],
   "source": [
    "np.where(a>50) # return indices of all the values which are satisfied by the given condition"
   ]
  },
  {
   "cell_type": "code",
   "execution_count": 18,
   "id": "4c607792",
   "metadata": {},
   "outputs": [
    {
     "data": {
      "text/plain": [
       "array([42,  0,  0, 42,  0,  0,  0, 44,  1,  0, 23, 11, 38,  0, 45])"
      ]
     },
     "execution_count": 18,
     "metadata": {},
     "output_type": "execute_result"
    }
   ],
   "source": [
    "np.where(a>50, 0, a)"
   ]
  },
  {
   "cell_type": "code",
   "execution_count": 19,
   "id": "2c2f1009",
   "metadata": {},
   "outputs": [
    {
     "data": {
      "text/plain": [
       "array([ 42, 116, 179, 221, 320, 397, 492, 536, 537, 635, 658, 669, 707,\n",
       "       797, 842])"
      ]
     },
     "execution_count": 19,
     "metadata": {},
     "output_type": "execute_result"
    }
   ],
   "source": [
    "np.cumsum(a)"
   ]
  },
  {
   "cell_type": "code",
   "execution_count": 20,
   "id": "f5d942f4",
   "metadata": {},
   "outputs": [
    {
     "data": {
      "text/plain": [
       "array([[78, 86, 88, 97],\n",
       "       [29, 72,  8, 71],\n",
       "       [80, 14, 38, 65],\n",
       "       [74, 97, 10, 41],\n",
       "       [17, 44, 91, 40],\n",
       "       [81, 15, 20, 71]])"
      ]
     },
     "execution_count": 20,
     "metadata": {},
     "output_type": "execute_result"
    }
   ],
   "source": [
    "b"
   ]
  },
  {
   "cell_type": "code",
   "execution_count": 22,
   "id": "210ed3b5",
   "metadata": {},
   "outputs": [
    {
     "data": {
      "text/plain": [
       "array([[ 78, 164, 252, 349],\n",
       "       [ 29, 101, 109, 180],\n",
       "       [ 80,  94, 132, 197],\n",
       "       [ 74, 171, 181, 222],\n",
       "       [ 17,  61, 152, 192],\n",
       "       [ 81,  96, 116, 187]])"
      ]
     },
     "execution_count": 22,
     "metadata": {},
     "output_type": "execute_result"
    }
   ],
   "source": [
    "np.cumsum(b, axis = 1)   # axis[col => 0, row => 1]"
   ]
  },
  {
   "cell_type": "code",
   "execution_count": null,
   "id": "23c4f360",
   "metadata": {},
   "outputs": [],
   "source": []
  }
 ],
 "metadata": {
  "kernelspec": {
   "display_name": "Python 3 (ipykernel)",
   "language": "python",
   "name": "python3"
  },
  "language_info": {
   "codemirror_mode": {
    "name": "ipython",
    "version": 3
   },
   "file_extension": ".py",
   "mimetype": "text/x-python",
   "name": "python",
   "nbconvert_exporter": "python",
   "pygments_lexer": "ipython3",
   "version": "3.11.5"
  }
 },
 "nbformat": 4,
 "nbformat_minor": 5
}
